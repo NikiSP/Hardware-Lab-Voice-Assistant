{
 "cells": [
  {
   "cell_type": "markdown",
   "metadata": {},
   "source": [
    "# Preliminary Settings and Data Initialization"
   ]
  },
  {
   "cell_type": "markdown",
   "metadata": {},
   "source": [
    "Importing necessary libraries and downloading the data."
   ]
  },
  {
   "cell_type": "code",
   "execution_count": 1,
   "metadata": {},
   "outputs": [],
   "source": [
    "import tensorflow as tf\n",
    "import numpy as np\n",
    "from tensorflow.io import gfile\n",
    "import tensorflow_io as tfio\n",
    "from tensorflow.python.ops import gen_audio_ops as audio_ops\n",
    "from tqdm.notebook import tqdm\n",
    "import matplotlib.pyplot as plt"
   ]
  },
  {
   "cell_type": "code",
   "execution_count": 16,
   "metadata": {},
   "outputs": [],
   "source": [
    "SPEECH_DATA='speech_data'\n",
    "!tar -xzf \"data_speech_commands_v0.02.tar.gz\" -C speech_data"
   ]
  },
  {
   "cell_type": "code",
   "execution_count": 3,
   "metadata": {},
   "outputs": [],
   "source": [
    "# The audio is all sampled at 16KHz and should all be 1 second in length - so 1 second is 16000 samples\n",
    "EXPECTED_SAMPLES=16000\n",
    "# Noise floor to detect if any audio is present\n",
    "NOISE_FLOOR=0.1\n",
    "# How many samples should be abover the noise floor?\n",
    "MINIMUM_VOICE_LENGTH= EXPECTED_SAMPLES/4\n",
    "\n",
    "TRAIN_SIZE=0.8\n",
    "VALIDATION_SIZE=0.1\n",
    "TEST_SIZE=0.1\n",
    "\n",
    "SPEECH_DATA='speech_data'"
   ]
  },
  {
   "cell_type": "markdown",
   "metadata": {},
   "source": [
    "After extracting the files, we can see the following folders which we will use to access the data (basically our list of words)"
   ]
  },
  {
   "cell_type": "code",
   "execution_count": 4,
   "metadata": {},
   "outputs": [],
   "source": [
    "words = [\n",
    "    'backward',\n",
    "    'bed',\n",
    "    'bird',\n",
    "    'cat',\n",
    "    'dog',\n",
    "    'down',\n",
    "    'eight',\n",
    "    'five',\n",
    "    'follow',\n",
    "    'forward',\n",
    "    'four',\n",
    "    'go',\n",
    "    'happy',\n",
    "    'house',\n",
    "    'learn',\n",
    "    'left',\n",
    "    'marvin',\n",
    "    'nine',\n",
    "    'no',\n",
    "    'off',\n",
    "    'on',\n",
    "    'one',\n",
    "    'right',\n",
    "    'seven',\n",
    "    'sheila',\n",
    "    'six',\n",
    "    'stop',\n",
    "    'three',\n",
    "    'tree',\n",
    "    'two',\n",
    "    'up',\n",
    "    'visual',\n",
    "    'wow',\n",
    "    'yes',\n",
    "    'zero',\n",
    "    '_background',\n",
    "]"
   ]
  },
  {
   "cell_type": "markdown",
   "metadata": {},
   "source": [
    "We use the following funcitons in order to gather information from audio files."
   ]
  },
  {
   "cell_type": "code",
   "execution_count": 5,
   "metadata": {},
   "outputs": [],
   "source": [
    "def get_files(word):\n",
    "    return gfile.glob(SPEECH_DATA+'/'+word+'/*.wav')\n",
    "\n",
    "def get_normalized_voice(input_audio):\n",
    "    audio= input_audio-np.mean(input_audio)\n",
    "    audio/= np.max(np.abs(audio))\n",
    "    return audio\n",
    "\n",
    "def get_voice_position(audio, noise_floor):\n",
    "    return (tfio.audio.trim(get_normalized_voice(audio), axis=0, epsilon= noise_floor))\n",
    "\n",
    "def is_enough_voice_present(audio, noise_floor, required_length):\n",
    "    # Getting the length of voice using end and start points\n",
    "    start, end= get_voice_position(audio, noise_floor)\n",
    "    length= (end-start).numpy()\n",
    "    return (length>=required_length)\n",
    "\n",
    "def is_correct_length(audio, expected_length):\n",
    "    return ((audio.shape[0]==expected_length).numpy())\n",
    "\n",
    "\n",
    "def is_file_valid(file_name):\n",
    "    audio_tensor= tfio.audio.AudioIOTensor(file_name)\n",
    "    \n",
    "    # Audio file having the correct length\n",
    "    if not is_correct_length(audio_tensor, EXPECTED_SAMPLES):\n",
    "        return False\n",
    "    \n",
    "    # Scaling audio into a float between -1 and 1 (Normalizing)\n",
    "    audio= tf.cast(audio_tensor[:], tf.float32)\n",
    "    audio= get_normalized_voice(audio)\n",
    "    \n",
    "    # Voice being present\n",
    "    if not is_enough_voice_present(audio, NOISE_FLOOR, MINIMUM_VOICE_LENGTH):\n",
    "        return False\n",
    "    \n",
    "    return True\n"
   ]
  },
  {
   "cell_type": "markdown",
   "metadata": {},
   "source": [
    "# Generating Spectograms"
   ]
  },
  {
   "cell_type": "code",
   "execution_count": 6,
   "metadata": {},
   "outputs": [],
   "source": [
    "def get_spectrogram(audio):\n",
    "    audio= get_normalized_voice(audio)\n",
    "    \n",
    "    spectrogram = audio_ops.audio_spectrogram(audio, window_size=320, stride=160, magnitude_squared=True).numpy()\n",
    "    \n",
    "    # Reducing the number of frequency bins\n",
    "    spectrogram = tf.nn.pool(\n",
    "        input=tf.expand_dims(spectrogram, -1),\n",
    "        window_shape=[1, 6],\n",
    "        strides=[1, 6],\n",
    "        pooling_type='AVG',\n",
    "        padding='SAME')\n",
    "    \n",
    "    spectrogram= tf.squeeze(spectrogram, axis=0)\n",
    "    spectrogram= np.log10(spectrogram+1e-6)\n",
    "\n",
    "    return spectrogram"
   ]
  },
  {
   "cell_type": "code",
   "execution_count": 7,
   "metadata": {},
   "outputs": [],
   "source": [
    "def get_background_noise():\n",
    "    background_volume= np.random.uniform(0, 0.1)\n",
    "    \n",
    "    background_file= np.random.choice(get_files('_background_noise_'))\n",
    "    background_tensor= tfio.audio.AudioIOTensor(background_file)\n",
    "    \n",
    "    start= np.random.randint(0, len(background_tensor)-16000)\n",
    "    background_audio= tf.cast(background_tensor[start:start+16000], tf.float32)\n",
    "    background_audio= get_normalized_voice(background_audio)\n",
    "    \n",
    "    return (background_volume*background_audio)\n",
    "\n",
    "\n",
    "def process_audio_for_spectogram(file_path):\n",
    "    audio_tensor= tfio.audio.AudioIOTensor(file_path)\n",
    "    audio= tf.cast(audio_tensor[:], tf.float32)\n",
    "    audio= get_normalized_voice(audio)\n",
    "    \n",
    "    # Random Reposition\n",
    "    voice_start, voice_end= get_voice_position(audio, NOISE_FLOOR)\n",
    "    end_gap= len(audio)-voice_end\n",
    "    random_offset = np.random.uniform(0, voice_start+end_gap)\n",
    "    audio = np.roll(audio,-random_offset+end_gap)\n",
    "    \n",
    "    audio+= get_background_noise()\n",
    "\n",
    "    return get_spectrogram(audio)"
   ]
  },
  {
   "cell_type": "markdown",
   "metadata": {},
   "source": [
    "We need to use compatible versions."
   ]
  },
  {
   "cell_type": "code",
   "execution_count": 8,
   "metadata": {},
   "outputs": [
    {
     "name": "stdout",
     "output_type": "stream",
     "text": [
      "TensorFlow version: 2.10.0\n",
      "TensorFlow I/O version: 0.27.0\n"
     ]
    }
   ],
   "source": [
    "print(f\"TensorFlow version: {tf.__version__}\")\n",
    "print(f\"TensorFlow I/O version: {tfio.__version__}\")"
   ]
  },
  {
   "cell_type": "markdown",
   "metadata": {},
   "source": [
    "We get the audio files for each word, add some background noise to them and create their spectogram. We add the spectograms to our train, validate and test dataset (In order to balance out our dataset, we add more instances of our wake-up word to the dataset.)."
   ]
  },
  {
   "cell_type": "code",
   "execution_count": 9,
   "metadata": {},
   "outputs": [
    {
     "data": {
      "application/vnd.jupyter.widget-view+json": {
       "model_id": "2e14ca9e0adf4cb289be3c6f63d751ba",
       "version_major": 2,
       "version_minor": 0
      },
      "text/plain": [
       "Processing words:   0%|          | 0/36 [00:00<?, ?it/s]"
      ]
     },
     "metadata": {},
     "output_type": "display_data"
    },
    {
     "data": {
      "application/vnd.jupyter.widget-view+json": {
       "model_id": "0649b118c7294a30b9134f0efbdeafab",
       "version_major": 2,
       "version_minor": 0
      },
      "text/plain": [
       "Checking for word:   0%|          | 0/1664 [00:00<?, ?it/s]"
      ]
     },
     "metadata": {},
     "output_type": "display_data"
    },
    {
     "data": {
      "application/vnd.jupyter.widget-view+json": {
       "model_id": "112d3e9cabdd4ad8878adfb5c662611b",
       "version_major": 2,
       "version_minor": 0
      },
      "text/plain": [
       "backward (0):   0%|          | 0/1225 [00:00<?, ?it/s]"
      ]
     },
     "metadata": {},
     "output_type": "display_data"
    },
    {
     "data": {
      "application/vnd.jupyter.widget-view+json": {
       "model_id": "50e51fdc6ed54260b3b1a79667dc337d",
       "version_major": 2,
       "version_minor": 0
      },
      "text/plain": [
       "backward (0):   0%|          | 0/153 [00:00<?, ?it/s]"
      ]
     },
     "metadata": {},
     "output_type": "display_data"
    },
    {
     "data": {
      "application/vnd.jupyter.widget-view+json": {
       "model_id": "6d5493faccce40f8a62780d58ba1ae0f",
       "version_major": 2,
       "version_minor": 0
      },
      "text/plain": [
       "backward (0):   0%|          | 0/154 [00:00<?, ?it/s]"
      ]
     },
     "metadata": {},
     "output_type": "display_data"
    },
    {
     "data": {
      "application/vnd.jupyter.widget-view+json": {
       "model_id": "a94a9438ed5a4ad1bafd6406f78000ff",
       "version_major": 2,
       "version_minor": 0
      },
      "text/plain": [
       "Checking for word:   0%|          | 0/2014 [00:00<?, ?it/s]"
      ]
     },
     "metadata": {},
     "output_type": "display_data"
    },
    {
     "data": {
      "application/vnd.jupyter.widget-view+json": {
       "model_id": "7fb51d63901f443dbd163a77fdc079f6",
       "version_major": 2,
       "version_minor": 0
      },
      "text/plain": [
       "bed (1):   0%|          | 0/998 [00:00<?, ?it/s]"
      ]
     },
     "metadata": {},
     "output_type": "display_data"
    },
    {
     "data": {
      "application/vnd.jupyter.widget-view+json": {
       "model_id": "86fb439fb5ad4b9498828fb998b0bd8a",
       "version_major": 2,
       "version_minor": 0
      },
      "text/plain": [
       "bed (1):   0%|          | 0/124 [00:00<?, ?it/s]"
      ]
     },
     "metadata": {},
     "output_type": "display_data"
    },
    {
     "data": {
      "application/vnd.jupyter.widget-view+json": {
       "model_id": "7f4c7a57cd7d41d59f156443d9b73e41",
       "version_major": 2,
       "version_minor": 0
      },
      "text/plain": [
       "bed (1):   0%|          | 0/126 [00:00<?, ?it/s]"
      ]
     },
     "metadata": {},
     "output_type": "display_data"
    },
    {
     "data": {
      "application/vnd.jupyter.widget-view+json": {
       "model_id": "6547376365ff49628ed5b1b7496f0d15",
       "version_major": 2,
       "version_minor": 0
      },
      "text/plain": [
       "Checking for word:   0%|          | 0/2064 [00:00<?, ?it/s]"
      ]
     },
     "metadata": {},
     "output_type": "display_data"
    },
    {
     "data": {
      "application/vnd.jupyter.widget-view+json": {
       "model_id": "59ca81b5f5e14d8794f143e91168748f",
       "version_major": 2,
       "version_minor": 0
      },
      "text/plain": [
       "bird (2):   0%|          | 0/1293 [00:00<?, ?it/s]"
      ]
     },
     "metadata": {},
     "output_type": "display_data"
    },
    {
     "data": {
      "application/vnd.jupyter.widget-view+json": {
       "model_id": "60bd9e071bab4f2fba47933d509060f3",
       "version_major": 2,
       "version_minor": 0
      },
      "text/plain": [
       "bird (2):   0%|          | 0/161 [00:00<?, ?it/s]"
      ]
     },
     "metadata": {},
     "output_type": "display_data"
    },
    {
     "data": {
      "application/vnd.jupyter.widget-view+json": {
       "model_id": "ff301fcc751d4c47b41908b7226c7947",
       "version_major": 2,
       "version_minor": 0
      },
      "text/plain": [
       "bird (2):   0%|          | 0/163 [00:00<?, ?it/s]"
      ]
     },
     "metadata": {},
     "output_type": "display_data"
    },
    {
     "data": {
      "application/vnd.jupyter.widget-view+json": {
       "model_id": "412062c5e96b4a90b80ac3a342c5bfab",
       "version_major": 2,
       "version_minor": 0
      },
      "text/plain": [
       "Checking for word:   0%|          | 0/2031 [00:00<?, ?it/s]"
      ]
     },
     "metadata": {},
     "output_type": "display_data"
    },
    {
     "data": {
      "application/vnd.jupyter.widget-view+json": {
       "model_id": "af2b6cb453af4c5f8f3ff1675356f5bb",
       "version_major": 2,
       "version_minor": 0
      },
      "text/plain": [
       "cat (3):   0%|          | 0/921 [00:00<?, ?it/s]"
      ]
     },
     "metadata": {},
     "output_type": "display_data"
    },
    {
     "data": {
      "application/vnd.jupyter.widget-view+json": {
       "model_id": "4a1a7769b6754012ab10aab4611c9b1b",
       "version_major": 2,
       "version_minor": 0
      },
      "text/plain": [
       "cat (3):   0%|          | 0/115 [00:00<?, ?it/s]"
      ]
     },
     "metadata": {},
     "output_type": "display_data"
    },
    {
     "data": {
      "application/vnd.jupyter.widget-view+json": {
       "model_id": "9ff04fe66f1b45c0b6662a15df76dc51",
       "version_major": 2,
       "version_minor": 0
      },
      "text/plain": [
       "cat (3):   0%|          | 0/116 [00:00<?, ?it/s]"
      ]
     },
     "metadata": {},
     "output_type": "display_data"
    },
    {
     "data": {
      "application/vnd.jupyter.widget-view+json": {
       "model_id": "d99e9263be2347deb089d3d5d0d2a3bd",
       "version_major": 2,
       "version_minor": 0
      },
      "text/plain": [
       "Checking for word:   0%|          | 0/2128 [00:00<?, ?it/s]"
      ]
     },
     "metadata": {},
     "output_type": "display_data"
    },
    {
     "data": {
      "application/vnd.jupyter.widget-view+json": {
       "model_id": "81b24c6b0abf4806837ae75553746ee1",
       "version_major": 2,
       "version_minor": 0
      },
      "text/plain": [
       "dog (4):   0%|          | 0/1306 [00:00<?, ?it/s]"
      ]
     },
     "metadata": {},
     "output_type": "display_data"
    },
    {
     "data": {
      "application/vnd.jupyter.widget-view+json": {
       "model_id": "daec77a1ac4141e193b516944d430808",
       "version_major": 2,
       "version_minor": 0
      },
      "text/plain": [
       "dog (4):   0%|          | 0/163 [00:00<?, ?it/s]"
      ]
     },
     "metadata": {},
     "output_type": "display_data"
    },
    {
     "data": {
      "application/vnd.jupyter.widget-view+json": {
       "model_id": "18f07c4f37874b95aa32e998288f0637",
       "version_major": 2,
       "version_minor": 0
      },
      "text/plain": [
       "dog (4):   0%|          | 0/164 [00:00<?, ?it/s]"
      ]
     },
     "metadata": {},
     "output_type": "display_data"
    },
    {
     "data": {
      "application/vnd.jupyter.widget-view+json": {
       "model_id": "6850fb80d1e44758a0eaca85145ecd18",
       "version_major": 2,
       "version_minor": 0
      },
      "text/plain": [
       "Checking for word:   0%|          | 0/3917 [00:00<?, ?it/s]"
      ]
     },
     "metadata": {},
     "output_type": "display_data"
    },
    {
     "data": {
      "application/vnd.jupyter.widget-view+json": {
       "model_id": "de17321f48564713ac3ef38d9578c63b",
       "version_major": 2,
       "version_minor": 0
      },
      "text/plain": [
       "down (5):   0%|          | 0/2623 [00:00<?, ?it/s]"
      ]
     },
     "metadata": {},
     "output_type": "display_data"
    },
    {
     "data": {
      "application/vnd.jupyter.widget-view+json": {
       "model_id": "1fe0bfb925fc48f7be16b7fc319f1727",
       "version_major": 2,
       "version_minor": 0
      },
      "text/plain": [
       "down (5):   0%|          | 0/327 [00:00<?, ?it/s]"
      ]
     },
     "metadata": {},
     "output_type": "display_data"
    },
    {
     "data": {
      "application/vnd.jupyter.widget-view+json": {
       "model_id": "384e04092cd141df92b3a392a1da7be5",
       "version_major": 2,
       "version_minor": 0
      },
      "text/plain": [
       "down (5):   0%|          | 0/329 [00:00<?, ?it/s]"
      ]
     },
     "metadata": {},
     "output_type": "display_data"
    },
    {
     "data": {
      "application/vnd.jupyter.widget-view+json": {
       "model_id": "0327f587c0704a7faaf34dab8326b268",
       "version_major": 2,
       "version_minor": 0
      },
      "text/plain": [
       "Checking for word:   0%|          | 0/3787 [00:00<?, ?it/s]"
      ]
     },
     "metadata": {},
     "output_type": "display_data"
    },
    {
     "data": {
      "application/vnd.jupyter.widget-view+json": {
       "model_id": "6ca59aa1e02941c6ba4c117804fbbdef",
       "version_major": 2,
       "version_minor": 0
      },
      "text/plain": [
       "eight (6):   0%|          | 0/1858 [00:00<?, ?it/s]"
      ]
     },
     "metadata": {},
     "output_type": "display_data"
    },
    {
     "data": {
      "application/vnd.jupyter.widget-view+json": {
       "model_id": "b29d73ba4e8a4ce09820dcf712a7f5ce",
       "version_major": 2,
       "version_minor": 0
      },
      "text/plain": [
       "eight (6):   0%|          | 0/232 [00:00<?, ?it/s]"
      ]
     },
     "metadata": {},
     "output_type": "display_data"
    },
    {
     "data": {
      "application/vnd.jupyter.widget-view+json": {
       "model_id": "ab549a27b93a4c89a657fe46b3937ca6",
       "version_major": 2,
       "version_minor": 0
      },
      "text/plain": [
       "eight (6):   0%|          | 0/233 [00:00<?, ?it/s]"
      ]
     },
     "metadata": {},
     "output_type": "display_data"
    },
    {
     "data": {
      "application/vnd.jupyter.widget-view+json": {
       "model_id": "572f15f8f753483aa8fb499c85a32f13",
       "version_major": 2,
       "version_minor": 0
      },
      "text/plain": [
       "Checking for word:   0%|          | 0/4052 [00:00<?, ?it/s]"
      ]
     },
     "metadata": {},
     "output_type": "display_data"
    },
    {
     "data": {
      "application/vnd.jupyter.widget-view+json": {
       "model_id": "643e497ca6644f1182ae38904cc72356",
       "version_major": 2,
       "version_minor": 0
      },
      "text/plain": [
       "five (7):   0%|          | 0/2376 [00:00<?, ?it/s]"
      ]
     },
     "metadata": {},
     "output_type": "display_data"
    },
    {
     "data": {
      "application/vnd.jupyter.widget-view+json": {
       "model_id": "07fa698c98ca4811812b3bee2b3e1838",
       "version_major": 2,
       "version_minor": 0
      },
      "text/plain": [
       "five (7):   0%|          | 0/297 [00:00<?, ?it/s]"
      ]
     },
     "metadata": {},
     "output_type": "display_data"
    },
    {
     "data": {
      "application/vnd.jupyter.widget-view+json": {
       "model_id": "5da25213d7f941ca9f6dba073fa8a340",
       "version_major": 2,
       "version_minor": 0
      },
      "text/plain": [
       "five (7):   0%|          | 0/297 [00:00<?, ?it/s]"
      ]
     },
     "metadata": {},
     "output_type": "display_data"
    },
    {
     "data": {
      "application/vnd.jupyter.widget-view+json": {
       "model_id": "9effa976917649dd91f8c24a1da286de",
       "version_major": 2,
       "version_minor": 0
      },
      "text/plain": [
       "Checking for word:   0%|          | 0/1579 [00:00<?, ?it/s]"
      ]
     },
     "metadata": {},
     "output_type": "display_data"
    },
    {
     "data": {
      "application/vnd.jupyter.widget-view+json": {
       "model_id": "8ac0d6318c9e433c9f766ec52e1ba406",
       "version_major": 2,
       "version_minor": 0
      },
      "text/plain": [
       "follow (8):   0%|          | 0/1063 [00:00<?, ?it/s]"
      ]
     },
     "metadata": {},
     "output_type": "display_data"
    },
    {
     "data": {
      "application/vnd.jupyter.widget-view+json": {
       "model_id": "7a0e71754b3c49b0acb4762f7c811569",
       "version_major": 2,
       "version_minor": 0
      },
      "text/plain": [
       "follow (8):   0%|          | 0/132 [00:00<?, ?it/s]"
      ]
     },
     "metadata": {},
     "output_type": "display_data"
    },
    {
     "data": {
      "application/vnd.jupyter.widget-view+json": {
       "model_id": "ec8e305a48d44ee882b8a835131aa579",
       "version_major": 2,
       "version_minor": 0
      },
      "text/plain": [
       "follow (8):   0%|          | 0/134 [00:00<?, ?it/s]"
      ]
     },
     "metadata": {},
     "output_type": "display_data"
    },
    {
     "data": {
      "application/vnd.jupyter.widget-view+json": {
       "model_id": "554133c0255d4fb5922a09730b55bc6f",
       "version_major": 2,
       "version_minor": 0
      },
      "text/plain": [
       "Checking for word:   0%|          | 0/1557 [00:00<?, ?it/s]"
      ]
     },
     "metadata": {},
     "output_type": "display_data"
    },
    {
     "data": {
      "application/vnd.jupyter.widget-view+json": {
       "model_id": "cc31c86c6a444ff8b92890434161562d",
       "version_major": 2,
       "version_minor": 0
      },
      "text/plain": [
       "forward (9):   0%|          | 0/1113 [00:00<?, ?it/s]"
      ]
     },
     "metadata": {},
     "output_type": "display_data"
    },
    {
     "data": {
      "application/vnd.jupyter.widget-view+json": {
       "model_id": "02e90b6a977e4cb7a1bfe79d09438cd3",
       "version_major": 2,
       "version_minor": 0
      },
      "text/plain": [
       "forward (9):   0%|          | 0/139 [00:00<?, ?it/s]"
      ]
     },
     "metadata": {},
     "output_type": "display_data"
    },
    {
     "data": {
      "application/vnd.jupyter.widget-view+json": {
       "model_id": "3f7b644119264c9eba98ebeb0f869239",
       "version_major": 2,
       "version_minor": 0
      },
      "text/plain": [
       "forward (9):   0%|          | 0/140 [00:00<?, ?it/s]"
      ]
     },
     "metadata": {},
     "output_type": "display_data"
    },
    {
     "data": {
      "application/vnd.jupyter.widget-view+json": {
       "model_id": "59db3002741e472f8fedfc06d6534413",
       "version_major": 2,
       "version_minor": 0
      },
      "text/plain": [
       "Checking for word:   0%|          | 0/3728 [00:00<?, ?it/s]"
      ]
     },
     "metadata": {},
     "output_type": "display_data"
    },
    {
     "data": {
      "application/vnd.jupyter.widget-view+json": {
       "model_id": "c63d337ae3ea49fbb449ef99357a12e9",
       "version_major": 2,
       "version_minor": 0
      },
      "text/plain": [
       "four (10):   0%|          | 0/2250 [00:00<?, ?it/s]"
      ]
     },
     "metadata": {},
     "output_type": "display_data"
    },
    {
     "data": {
      "application/vnd.jupyter.widget-view+json": {
       "model_id": "c61a19cf527f4a74848693fc0e02b3bc",
       "version_major": 2,
       "version_minor": 0
      },
      "text/plain": [
       "four (10):   0%|          | 0/281 [00:00<?, ?it/s]"
      ]
     },
     "metadata": {},
     "output_type": "display_data"
    },
    {
     "data": {
      "application/vnd.jupyter.widget-view+json": {
       "model_id": "699c4b5445644e858dc1dcf1898995e2",
       "version_major": 2,
       "version_minor": 0
      },
      "text/plain": [
       "four (10):   0%|          | 0/282 [00:00<?, ?it/s]"
      ]
     },
     "metadata": {},
     "output_type": "display_data"
    },
    {
     "data": {
      "application/vnd.jupyter.widget-view+json": {
       "model_id": "885cd1a9984b479b89d9f528eaa503e1",
       "version_major": 2,
       "version_minor": 0
      },
      "text/plain": [
       "Checking for word:   0%|          | 0/3880 [00:00<?, ?it/s]"
      ]
     },
     "metadata": {},
     "output_type": "display_data"
    },
    {
     "data": {
      "application/vnd.jupyter.widget-view+json": {
       "model_id": "a73d8e0d89124f918827f4dc1a597783",
       "version_major": 2,
       "version_minor": 0
      },
      "text/plain": [
       "go (11):   0%|          | 0/2157 [00:00<?, ?it/s]"
      ]
     },
     "metadata": {},
     "output_type": "display_data"
    },
    {
     "data": {
      "application/vnd.jupyter.widget-view+json": {
       "model_id": "bec5481bb7334fd5821da5202ffdee6b",
       "version_major": 2,
       "version_minor": 0
      },
      "text/plain": [
       "go (11):   0%|          | 0/269 [00:00<?, ?it/s]"
      ]
     },
     "metadata": {},
     "output_type": "display_data"
    },
    {
     "data": {
      "application/vnd.jupyter.widget-view+json": {
       "model_id": "598c889d4c264fda9f8fdcc78e0b06a9",
       "version_major": 2,
       "version_minor": 0
      },
      "text/plain": [
       "go (11):   0%|          | 0/271 [00:00<?, ?it/s]"
      ]
     },
     "metadata": {},
     "output_type": "display_data"
    },
    {
     "data": {
      "application/vnd.jupyter.widget-view+json": {
       "model_id": "0825463f356b4c9ea04122bc2fba4d05",
       "version_major": 2,
       "version_minor": 0
      },
      "text/plain": [
       "Checking for word:   0%|          | 0/2054 [00:00<?, ?it/s]"
      ]
     },
     "metadata": {},
     "output_type": "display_data"
    },
    {
     "data": {
      "application/vnd.jupyter.widget-view+json": {
       "model_id": "ad7310fbe30441c89e5fb39270435c96",
       "version_major": 2,
       "version_minor": 0
      },
      "text/plain": [
       "happy (12):   0%|          | 0/1285 [00:00<?, ?it/s]"
      ]
     },
     "metadata": {},
     "output_type": "display_data"
    },
    {
     "data": {
      "application/vnd.jupyter.widget-view+json": {
       "model_id": "931fe3ef16b844a48e7b4d23b58cbcd5",
       "version_major": 2,
       "version_minor": 0
      },
      "text/plain": [
       "happy (12):   0%|          | 0/160 [00:00<?, ?it/s]"
      ]
     },
     "metadata": {},
     "output_type": "display_data"
    },
    {
     "data": {
      "application/vnd.jupyter.widget-view+json": {
       "model_id": "f3194f0120ec46f8aca70d7d2e9a39a1",
       "version_major": 2,
       "version_minor": 0
      },
      "text/plain": [
       "happy (12):   0%|          | 0/162 [00:00<?, ?it/s]"
      ]
     },
     "metadata": {},
     "output_type": "display_data"
    },
    {
     "data": {
      "application/vnd.jupyter.widget-view+json": {
       "model_id": "20ce77c285b240da8a29d63ae65fb258",
       "version_major": 2,
       "version_minor": 0
      },
      "text/plain": [
       "Checking for word:   0%|          | 0/2113 [00:00<?, ?it/s]"
      ]
     },
     "metadata": {},
     "output_type": "display_data"
    },
    {
     "data": {
      "application/vnd.jupyter.widget-view+json": {
       "model_id": "1358acff915c47c5bb9758e40bbaba1d",
       "version_major": 2,
       "version_minor": 0
      },
      "text/plain": [
       "house (13):   0%|          | 0/1132 [00:00<?, ?it/s]"
      ]
     },
     "metadata": {},
     "output_type": "display_data"
    },
    {
     "data": {
      "application/vnd.jupyter.widget-view+json": {
       "model_id": "eb2b7e8988aa4e2f8ba0485f940441cf",
       "version_major": 2,
       "version_minor": 0
      },
      "text/plain": [
       "house (13):   0%|          | 0/141 [00:00<?, ?it/s]"
      ]
     },
     "metadata": {},
     "output_type": "display_data"
    },
    {
     "data": {
      "application/vnd.jupyter.widget-view+json": {
       "model_id": "a62723f140614a58ba41fae33e2e4ff3",
       "version_major": 2,
       "version_minor": 0
      },
      "text/plain": [
       "house (13):   0%|          | 0/142 [00:00<?, ?it/s]"
      ]
     },
     "metadata": {},
     "output_type": "display_data"
    },
    {
     "data": {
      "application/vnd.jupyter.widget-view+json": {
       "model_id": "f0cb0ae798be4665a0071ba8c461ef1b",
       "version_major": 2,
       "version_minor": 0
      },
      "text/plain": [
       "Checking for word:   0%|          | 0/1575 [00:00<?, ?it/s]"
      ]
     },
     "metadata": {},
     "output_type": "display_data"
    },
    {
     "data": {
      "application/vnd.jupyter.widget-view+json": {
       "model_id": "f0b54bf7d43c4d1486c1fd623f899c40",
       "version_major": 2,
       "version_minor": 0
      },
      "text/plain": [
       "learn (14):   0%|          | 0/1096 [00:00<?, ?it/s]"
      ]
     },
     "metadata": {},
     "output_type": "display_data"
    },
    {
     "data": {
      "application/vnd.jupyter.widget-view+json": {
       "model_id": "04d07797c9fc4379a4b1ac3830a611c4",
       "version_major": 2,
       "version_minor": 0
      },
      "text/plain": [
       "learn (14):   0%|          | 0/137 [00:00<?, ?it/s]"
      ]
     },
     "metadata": {},
     "output_type": "display_data"
    },
    {
     "data": {
      "application/vnd.jupyter.widget-view+json": {
       "model_id": "c3f867d8a3bd46e286064fa1d613d140",
       "version_major": 2,
       "version_minor": 0
      },
      "text/plain": [
       "learn (14):   0%|          | 0/137 [00:00<?, ?it/s]"
      ]
     },
     "metadata": {},
     "output_type": "display_data"
    },
    {
     "data": {
      "application/vnd.jupyter.widget-view+json": {
       "model_id": "773c0274dc784b4ba44fb7ae94f53d15",
       "version_major": 2,
       "version_minor": 0
      },
      "text/plain": [
       "Checking for word:   0%|          | 0/3801 [00:00<?, ?it/s]"
      ]
     },
     "metadata": {},
     "output_type": "display_data"
    },
    {
     "data": {
      "application/vnd.jupyter.widget-view+json": {
       "model_id": "57f4dfe0e8cd483993ad6784edbbcd1b",
       "version_major": 2,
       "version_minor": 0
      },
      "text/plain": [
       "left (15):   0%|          | 0/1876 [00:00<?, ?it/s]"
      ]
     },
     "metadata": {},
     "output_type": "display_data"
    },
    {
     "data": {
      "application/vnd.jupyter.widget-view+json": {
       "model_id": "4478742bcad64ba883abe0dd93d4542c",
       "version_major": 2,
       "version_minor": 0
      },
      "text/plain": [
       "left (15):   0%|          | 0/234 [00:00<?, ?it/s]"
      ]
     },
     "metadata": {},
     "output_type": "display_data"
    },
    {
     "data": {
      "application/vnd.jupyter.widget-view+json": {
       "model_id": "2bb74638d1c242f49c4452c47ab6db2e",
       "version_major": 2,
       "version_minor": 0
      },
      "text/plain": [
       "left (15):   0%|          | 0/235 [00:00<?, ?it/s]"
      ]
     },
     "metadata": {},
     "output_type": "display_data"
    },
    {
     "data": {
      "application/vnd.jupyter.widget-view+json": {
       "model_id": "f5281e2c95714a51a3733ac73bd7b7d0",
       "version_major": 2,
       "version_minor": 0
      },
      "text/plain": [
       "Checking for word:   0%|          | 0/2100 [00:00<?, ?it/s]"
      ]
     },
     "metadata": {},
     "output_type": "display_data"
    },
    {
     "data": {
      "application/vnd.jupyter.widget-view+json": {
       "model_id": "425638a7fb5346a29eb5f44b8480cbeb",
       "version_major": 2,
       "version_minor": 0
      },
      "text/plain": [
       "marvin (16):   0%|          | 0/100660 [00:00<?, ?it/s]"
      ]
     },
     "metadata": {},
     "output_type": "display_data"
    },
    {
     "data": {
      "application/vnd.jupyter.widget-view+json": {
       "model_id": "5bf83f248ae94faa80a257d1183ff0af",
       "version_major": 2,
       "version_minor": 0
      },
      "text/plain": [
       "marvin (16):   0%|          | 0/12530 [00:00<?, ?it/s]"
      ]
     },
     "metadata": {},
     "output_type": "display_data"
    },
    {
     "data": {
      "application/vnd.jupyter.widget-view+json": {
       "model_id": "afb15f52d5be4811a7416dcd4684afa1",
       "version_major": 2,
       "version_minor": 0
      },
      "text/plain": [
       "marvin (16):   0%|          | 0/12670 [00:00<?, ?it/s]"
      ]
     },
     "metadata": {},
     "output_type": "display_data"
    },
    {
     "data": {
      "application/vnd.jupyter.widget-view+json": {
       "model_id": "4c9c3c76b553444b98e225cc168a842e",
       "version_major": 2,
       "version_minor": 0
      },
      "text/plain": [
       "Checking for word:   0%|          | 0/3934 [00:00<?, ?it/s]"
      ]
     },
     "metadata": {},
     "output_type": "display_data"
    },
    {
     "data": {
      "application/vnd.jupyter.widget-view+json": {
       "model_id": "7f0e571ddc8d467a88cfcbfdfd73ddc6",
       "version_major": 2,
       "version_minor": 0
      },
      "text/plain": [
       "nine (17):   0%|          | 0/2758 [00:00<?, ?it/s]"
      ]
     },
     "metadata": {},
     "output_type": "display_data"
    },
    {
     "data": {
      "application/vnd.jupyter.widget-view+json": {
       "model_id": "b6c62788f4eb45fb918a02c24704619b",
       "version_major": 2,
       "version_minor": 0
      },
      "text/plain": [
       "nine (17):   0%|          | 0/344 [00:00<?, ?it/s]"
      ]
     },
     "metadata": {},
     "output_type": "display_data"
    },
    {
     "data": {
      "application/vnd.jupyter.widget-view+json": {
       "model_id": "592318bc81cf43d28f9a80c43d0a786b",
       "version_major": 2,
       "version_minor": 0
      },
      "text/plain": [
       "nine (17):   0%|          | 0/346 [00:00<?, ?it/s]"
      ]
     },
     "metadata": {},
     "output_type": "display_data"
    },
    {
     "data": {
      "application/vnd.jupyter.widget-view+json": {
       "model_id": "4389e4bcd48946c997b25220034fcf75",
       "version_major": 2,
       "version_minor": 0
      },
      "text/plain": [
       "Checking for word:   0%|          | 0/3941 [00:00<?, ?it/s]"
      ]
     },
     "metadata": {},
     "output_type": "display_data"
    },
    {
     "data": {
      "application/vnd.jupyter.widget-view+json": {
       "model_id": "4cf88833591d491a8b38a18934321a33",
       "version_major": 2,
       "version_minor": 0
      },
      "text/plain": [
       "no (18):   0%|          | 0/2464 [00:00<?, ?it/s]"
      ]
     },
     "metadata": {},
     "output_type": "display_data"
    },
    {
     "data": {
      "application/vnd.jupyter.widget-view+json": {
       "model_id": "965dc1268df14406b8620acbd957c83d",
       "version_major": 2,
       "version_minor": 0
      },
      "text/plain": [
       "no (18):   0%|          | 0/308 [00:00<?, ?it/s]"
      ]
     },
     "metadata": {},
     "output_type": "display_data"
    },
    {
     "data": {
      "application/vnd.jupyter.widget-view+json": {
       "model_id": "144dcbf61c13454eab5756536911d63d",
       "version_major": 2,
       "version_minor": 0
      },
      "text/plain": [
       "no (18):   0%|          | 0/309 [00:00<?, ?it/s]"
      ]
     },
     "metadata": {},
     "output_type": "display_data"
    },
    {
     "data": {
      "application/vnd.jupyter.widget-view+json": {
       "model_id": "fb727b762ea249eb8c1647b4adf11717",
       "version_major": 2,
       "version_minor": 0
      },
      "text/plain": [
       "Checking for word:   0%|          | 0/3745 [00:00<?, ?it/s]"
      ]
     },
     "metadata": {},
     "output_type": "display_data"
    },
    {
     "data": {
      "application/vnd.jupyter.widget-view+json": {
       "model_id": "2a226761869f46e7bb9890738786f38b",
       "version_major": 2,
       "version_minor": 0
      },
      "text/plain": [
       "off (19):   0%|          | 0/1188 [00:00<?, ?it/s]"
      ]
     },
     "metadata": {},
     "output_type": "display_data"
    },
    {
     "data": {
      "application/vnd.jupyter.widget-view+json": {
       "model_id": "2c95c9d00c5c4dcd843db9221d82ca56",
       "version_major": 2,
       "version_minor": 0
      },
      "text/plain": [
       "off (19):   0%|          | 0/148 [00:00<?, ?it/s]"
      ]
     },
     "metadata": {},
     "output_type": "display_data"
    },
    {
     "data": {
      "application/vnd.jupyter.widget-view+json": {
       "model_id": "dfca9663fde44effb23a869523fad629",
       "version_major": 2,
       "version_minor": 0
      },
      "text/plain": [
       "off (19):   0%|          | 0/150 [00:00<?, ?it/s]"
      ]
     },
     "metadata": {},
     "output_type": "display_data"
    },
    {
     "data": {
      "application/vnd.jupyter.widget-view+json": {
       "model_id": "a20e6165e43e4d7ea67545d831e94bf1",
       "version_major": 2,
       "version_minor": 0
      },
      "text/plain": [
       "Checking for word:   0%|          | 0/3845 [00:00<?, ?it/s]"
      ]
     },
     "metadata": {},
     "output_type": "display_data"
    },
    {
     "data": {
      "application/vnd.jupyter.widget-view+json": {
       "model_id": "911ff5e94f8943b9a3647dd49f55833a",
       "version_major": 2,
       "version_minor": 0
      },
      "text/plain": [
       "on (20):   0%|          | 0/2390 [00:00<?, ?it/s]"
      ]
     },
     "metadata": {},
     "output_type": "display_data"
    },
    {
     "data": {
      "application/vnd.jupyter.widget-view+json": {
       "model_id": "169031a96d6f4552906726d751c296bb",
       "version_major": 2,
       "version_minor": 0
      },
      "text/plain": [
       "on (20):   0%|          | 0/298 [00:00<?, ?it/s]"
      ]
     },
     "metadata": {},
     "output_type": "display_data"
    },
    {
     "data": {
      "application/vnd.jupyter.widget-view+json": {
       "model_id": "42ab8d94596d47a886e4bb8b08805ac1",
       "version_major": 2,
       "version_minor": 0
      },
      "text/plain": [
       "on (20):   0%|          | 0/300 [00:00<?, ?it/s]"
      ]
     },
     "metadata": {},
     "output_type": "display_data"
    },
    {
     "data": {
      "application/vnd.jupyter.widget-view+json": {
       "model_id": "0bd2cf46a89141f483d9c1a7a6ac67d8",
       "version_major": 2,
       "version_minor": 0
      },
      "text/plain": [
       "Checking for word:   0%|          | 0/3890 [00:00<?, ?it/s]"
      ]
     },
     "metadata": {},
     "output_type": "display_data"
    },
    {
     "data": {
      "application/vnd.jupyter.widget-view+json": {
       "model_id": "869723a7bc334736a5f28b425a2d640d",
       "version_major": 2,
       "version_minor": 0
      },
      "text/plain": [
       "one (21):   0%|          | 0/2324 [00:00<?, ?it/s]"
      ]
     },
     "metadata": {},
     "output_type": "display_data"
    },
    {
     "data": {
      "application/vnd.jupyter.widget-view+json": {
       "model_id": "9396375c468943af9f6d25e50f9b2970",
       "version_major": 2,
       "version_minor": 0
      },
      "text/plain": [
       "one (21):   0%|          | 0/290 [00:00<?, ?it/s]"
      ]
     },
     "metadata": {},
     "output_type": "display_data"
    },
    {
     "data": {
      "application/vnd.jupyter.widget-view+json": {
       "model_id": "0ae1bc3d271446ff8617fb7df503b710",
       "version_major": 2,
       "version_minor": 0
      },
      "text/plain": [
       "one (21):   0%|          | 0/292 [00:00<?, ?it/s]"
      ]
     },
     "metadata": {},
     "output_type": "display_data"
    },
    {
     "data": {
      "application/vnd.jupyter.widget-view+json": {
       "model_id": "8ffabf2f401147e5969a9f26efd62592",
       "version_major": 2,
       "version_minor": 0
      },
      "text/plain": [
       "Checking for word:   0%|          | 0/3778 [00:00<?, ?it/s]"
      ]
     },
     "metadata": {},
     "output_type": "display_data"
    },
    {
     "data": {
      "application/vnd.jupyter.widget-view+json": {
       "model_id": "f99a4d2621bb46a68f4001e350832e8f",
       "version_major": 2,
       "version_minor": 0
      },
      "text/plain": [
       "right (22):   0%|          | 0/2111 [00:00<?, ?it/s]"
      ]
     },
     "metadata": {},
     "output_type": "display_data"
    },
    {
     "data": {
      "application/vnd.jupyter.widget-view+json": {
       "model_id": "6feb1f2d6b104453a74f7da2cda0ead0",
       "version_major": 2,
       "version_minor": 0
      },
      "text/plain": [
       "right (22):   0%|          | 0/263 [00:00<?, ?it/s]"
      ]
     },
     "metadata": {},
     "output_type": "display_data"
    },
    {
     "data": {
      "application/vnd.jupyter.widget-view+json": {
       "model_id": "0596b02c6ee34c73b057721d9b52bc45",
       "version_major": 2,
       "version_minor": 0
      },
      "text/plain": [
       "right (22):   0%|          | 0/265 [00:00<?, ?it/s]"
      ]
     },
     "metadata": {},
     "output_type": "display_data"
    },
    {
     "data": {
      "application/vnd.jupyter.widget-view+json": {
       "model_id": "f3288ca3ea8842e2a6debe6cba9ca8ee",
       "version_major": 2,
       "version_minor": 0
      },
      "text/plain": [
       "Checking for word:   0%|          | 0/3998 [00:00<?, ?it/s]"
      ]
     },
     "metadata": {},
     "output_type": "display_data"
    },
    {
     "data": {
      "application/vnd.jupyter.widget-view+json": {
       "model_id": "7bc6cb6858504cf1a41952f2f89d2cfc",
       "version_major": 2,
       "version_minor": 0
      },
      "text/plain": [
       "seven (23):   0%|          | 0/2753 [00:00<?, ?it/s]"
      ]
     },
     "metadata": {},
     "output_type": "display_data"
    },
    {
     "data": {
      "application/vnd.jupyter.widget-view+json": {
       "model_id": "a44f837d4e9c4f25aaa3098d3443d950",
       "version_major": 2,
       "version_minor": 0
      },
      "text/plain": [
       "seven (23):   0%|          | 0/344 [00:00<?, ?it/s]"
      ]
     },
     "metadata": {},
     "output_type": "display_data"
    },
    {
     "data": {
      "application/vnd.jupyter.widget-view+json": {
       "model_id": "907bb44ac50747c39dcf4fc19c725c21",
       "version_major": 2,
       "version_minor": 0
      },
      "text/plain": [
       "seven (23):   0%|          | 0/345 [00:00<?, ?it/s]"
      ]
     },
     "metadata": {},
     "output_type": "display_data"
    },
    {
     "data": {
      "application/vnd.jupyter.widget-view+json": {
       "model_id": "9780f5583b7c41859e3f46105be6d1ee",
       "version_major": 2,
       "version_minor": 0
      },
      "text/plain": [
       "Checking for word:   0%|          | 0/2022 [00:00<?, ?it/s]"
      ]
     },
     "metadata": {},
     "output_type": "display_data"
    },
    {
     "data": {
      "application/vnd.jupyter.widget-view+json": {
       "model_id": "be0b5d1cf0114f089d7a9f99b4a32bfe",
       "version_major": 2,
       "version_minor": 0
      },
      "text/plain": [
       "sheila (24):   0%|          | 0/1384 [00:00<?, ?it/s]"
      ]
     },
     "metadata": {},
     "output_type": "display_data"
    },
    {
     "data": {
      "application/vnd.jupyter.widget-view+json": {
       "model_id": "30be8b5511c04693ae9e3a4a66a987e0",
       "version_major": 2,
       "version_minor": 0
      },
      "text/plain": [
       "sheila (24):   0%|          | 0/173 [00:00<?, ?it/s]"
      ]
     },
     "metadata": {},
     "output_type": "display_data"
    },
    {
     "data": {
      "application/vnd.jupyter.widget-view+json": {
       "model_id": "3c30be2655f24a6e8eea2b1124704341",
       "version_major": 2,
       "version_minor": 0
      },
      "text/plain": [
       "sheila (24):   0%|          | 0/173 [00:00<?, ?it/s]"
      ]
     },
     "metadata": {},
     "output_type": "display_data"
    },
    {
     "data": {
      "application/vnd.jupyter.widget-view+json": {
       "model_id": "6a5cc20360df43b1a9e41aa0b93c347e",
       "version_major": 2,
       "version_minor": 0
      },
      "text/plain": [
       "Checking for word:   0%|          | 0/3860 [00:00<?, ?it/s]"
      ]
     },
     "metadata": {},
     "output_type": "display_data"
    },
    {
     "data": {
      "application/vnd.jupyter.widget-view+json": {
       "model_id": "07728bd5ddc8480982cd8e19f336ce4f",
       "version_major": 2,
       "version_minor": 0
      },
      "text/plain": [
       "six (25):   0%|          | 0/2321 [00:00<?, ?it/s]"
      ]
     },
     "metadata": {},
     "output_type": "display_data"
    },
    {
     "data": {
      "application/vnd.jupyter.widget-view+json": {
       "model_id": "c453c0b202714c458d60cc73c561e98b",
       "version_major": 2,
       "version_minor": 0
      },
      "text/plain": [
       "six (25):   0%|          | 0/290 [00:00<?, ?it/s]"
      ]
     },
     "metadata": {},
     "output_type": "display_data"
    },
    {
     "data": {
      "application/vnd.jupyter.widget-view+json": {
       "model_id": "64a64e3fd3dd4790827aaa99068c4af1",
       "version_major": 2,
       "version_minor": 0
      },
      "text/plain": [
       "six (25):   0%|          | 0/291 [00:00<?, ?it/s]"
      ]
     },
     "metadata": {},
     "output_type": "display_data"
    },
    {
     "data": {
      "application/vnd.jupyter.widget-view+json": {
       "model_id": "f7fc84bbaf734f8dba9006fbb8e7cf72",
       "version_major": 2,
       "version_minor": 0
      },
      "text/plain": [
       "Checking for word:   0%|          | 0/3872 [00:00<?, ?it/s]"
      ]
     },
     "metadata": {},
     "output_type": "display_data"
    },
    {
     "data": {
      "application/vnd.jupyter.widget-view+json": {
       "model_id": "4a3ed639412b450c8d5d30627dc72ea0",
       "version_major": 2,
       "version_minor": 0
      },
      "text/plain": [
       "stop (26):   0%|          | 0/2001 [00:00<?, ?it/s]"
      ]
     },
     "metadata": {},
     "output_type": "display_data"
    },
    {
     "data": {
      "application/vnd.jupyter.widget-view+json": {
       "model_id": "4078cf8e4d3d4a059a333beb4ac2ba4f",
       "version_major": 2,
       "version_minor": 0
      },
      "text/plain": [
       "stop (26):   0%|          | 0/250 [00:00<?, ?it/s]"
      ]
     },
     "metadata": {},
     "output_type": "display_data"
    },
    {
     "data": {
      "application/vnd.jupyter.widget-view+json": {
       "model_id": "3fb85eccb36d4c4ba63e12939d14db17",
       "version_major": 2,
       "version_minor": 0
      },
      "text/plain": [
       "stop (26):   0%|          | 0/251 [00:00<?, ?it/s]"
      ]
     },
     "metadata": {},
     "output_type": "display_data"
    },
    {
     "data": {
      "application/vnd.jupyter.widget-view+json": {
       "model_id": "a32b080f3e654559815376e05b99077d",
       "version_major": 2,
       "version_minor": 0
      },
      "text/plain": [
       "Checking for word:   0%|          | 0/3727 [00:00<?, ?it/s]"
      ]
     },
     "metadata": {},
     "output_type": "display_data"
    },
    {
     "data": {
      "application/vnd.jupyter.widget-view+json": {
       "model_id": "fc55e1e4a2434ce0b382d7c5a9c2487f",
       "version_major": 2,
       "version_minor": 0
      },
      "text/plain": [
       "three (27):   0%|          | 0/2276 [00:00<?, ?it/s]"
      ]
     },
     "metadata": {},
     "output_type": "display_data"
    },
    {
     "data": {
      "application/vnd.jupyter.widget-view+json": {
       "model_id": "c77b5607f09a4d08a76f1e8d7f925557",
       "version_major": 2,
       "version_minor": 0
      },
      "text/plain": [
       "three (27):   0%|          | 0/284 [00:00<?, ?it/s]"
      ]
     },
     "metadata": {},
     "output_type": "display_data"
    },
    {
     "data": {
      "application/vnd.jupyter.widget-view+json": {
       "model_id": "ab5cfae67b1c433a991e3d796d7038ba",
       "version_major": 2,
       "version_minor": 0
      },
      "text/plain": [
       "three (27):   0%|          | 0/286 [00:00<?, ?it/s]"
      ]
     },
     "metadata": {},
     "output_type": "display_data"
    },
    {
     "data": {
      "application/vnd.jupyter.widget-view+json": {
       "model_id": "c1541ebc3da9404d8b9e661096a33e04",
       "version_major": 2,
       "version_minor": 0
      },
      "text/plain": [
       "Checking for word:   0%|          | 0/1759 [00:00<?, ?it/s]"
      ]
     },
     "metadata": {},
     "output_type": "display_data"
    },
    {
     "data": {
      "application/vnd.jupyter.widget-view+json": {
       "model_id": "d32d921304904a09a564e6817ec0e98c",
       "version_major": 2,
       "version_minor": 0
      },
      "text/plain": [
       "tree (28):   0%|          | 0/1118 [00:00<?, ?it/s]"
      ]
     },
     "metadata": {},
     "output_type": "display_data"
    },
    {
     "data": {
      "application/vnd.jupyter.widget-view+json": {
       "model_id": "70377d3469da481d9351146e13bdc670",
       "version_major": 2,
       "version_minor": 0
      },
      "text/plain": [
       "tree (28):   0%|          | 0/139 [00:00<?, ?it/s]"
      ]
     },
     "metadata": {},
     "output_type": "display_data"
    },
    {
     "data": {
      "application/vnd.jupyter.widget-view+json": {
       "model_id": "f5d3c5b96efa4a499f0131875491352a",
       "version_major": 2,
       "version_minor": 0
      },
      "text/plain": [
       "tree (28):   0%|          | 0/141 [00:00<?, ?it/s]"
      ]
     },
     "metadata": {},
     "output_type": "display_data"
    },
    {
     "data": {
      "application/vnd.jupyter.widget-view+json": {
       "model_id": "84013d8233d84c91b44448e7f782d4e1",
       "version_major": 2,
       "version_minor": 0
      },
      "text/plain": [
       "Checking for word:   0%|          | 0/3880 [00:00<?, ?it/s]"
      ]
     },
     "metadata": {},
     "output_type": "display_data"
    },
    {
     "data": {
      "application/vnd.jupyter.widget-view+json": {
       "model_id": "4943de0b07244c8e88ebdd9b497e7610",
       "version_major": 2,
       "version_minor": 0
      },
      "text/plain": [
       "two (29):   0%|          | 0/2164 [00:00<?, ?it/s]"
      ]
     },
     "metadata": {},
     "output_type": "display_data"
    },
    {
     "data": {
      "application/vnd.jupyter.widget-view+json": {
       "model_id": "787a39ec4c3745d79aad1dfe2231cabe",
       "version_major": 2,
       "version_minor": 0
      },
      "text/plain": [
       "two (29):   0%|          | 0/270 [00:00<?, ?it/s]"
      ]
     },
     "metadata": {},
     "output_type": "display_data"
    },
    {
     "data": {
      "application/vnd.jupyter.widget-view+json": {
       "model_id": "7fee413e3cc44a2ea0a21d4db8d3db7f",
       "version_major": 2,
       "version_minor": 0
      },
      "text/plain": [
       "two (29):   0%|          | 0/271 [00:00<?, ?it/s]"
      ]
     },
     "metadata": {},
     "output_type": "display_data"
    },
    {
     "data": {
      "application/vnd.jupyter.widget-view+json": {
       "model_id": "a0230428a11d488a8763e94a8316e755",
       "version_major": 2,
       "version_minor": 0
      },
      "text/plain": [
       "Checking for word:   0%|          | 0/3723 [00:00<?, ?it/s]"
      ]
     },
     "metadata": {},
     "output_type": "display_data"
    },
    {
     "data": {
      "application/vnd.jupyter.widget-view+json": {
       "model_id": "ebe1b99f22b040c484ede56f92a62b11",
       "version_major": 2,
       "version_minor": 0
      },
      "text/plain": [
       "up (30):   0%|          | 0/790 [00:00<?, ?it/s]"
      ]
     },
     "metadata": {},
     "output_type": "display_data"
    },
    {
     "data": {
      "application/vnd.jupyter.widget-view+json": {
       "model_id": "f81f3c5d3b6040ebbe71ec8ae591042f",
       "version_major": 2,
       "version_minor": 0
      },
      "text/plain": [
       "up (30):   0%|          | 0/98 [00:00<?, ?it/s]"
      ]
     },
     "metadata": {},
     "output_type": "display_data"
    },
    {
     "data": {
      "application/vnd.jupyter.widget-view+json": {
       "model_id": "ec1772eb7a214ef9ae4883f9d2a61611",
       "version_major": 2,
       "version_minor": 0
      },
      "text/plain": [
       "up (30):   0%|          | 0/100 [00:00<?, ?it/s]"
      ]
     },
     "metadata": {},
     "output_type": "display_data"
    },
    {
     "data": {
      "application/vnd.jupyter.widget-view+json": {
       "model_id": "4bd54c772d04478d9fa6ec87caec4af6",
       "version_major": 2,
       "version_minor": 0
      },
      "text/plain": [
       "Checking for word:   0%|          | 0/1592 [00:00<?, ?it/s]"
      ]
     },
     "metadata": {},
     "output_type": "display_data"
    },
    {
     "data": {
      "application/vnd.jupyter.widget-view+json": {
       "model_id": "f2bee29df12946be9009e228742a00aa",
       "version_major": 2,
       "version_minor": 0
      },
      "text/plain": [
       "visual (31):   0%|          | 0/1149 [00:00<?, ?it/s]"
      ]
     },
     "metadata": {},
     "output_type": "display_data"
    },
    {
     "data": {
      "application/vnd.jupyter.widget-view+json": {
       "model_id": "a5a4e239b2a444568c521d36c34df7e9",
       "version_major": 2,
       "version_minor": 0
      },
      "text/plain": [
       "visual (31):   0%|          | 0/143 [00:00<?, ?it/s]"
      ]
     },
     "metadata": {},
     "output_type": "display_data"
    },
    {
     "data": {
      "application/vnd.jupyter.widget-view+json": {
       "model_id": "47dbfb091c32464099ad0b7eac1657d4",
       "version_major": 2,
       "version_minor": 0
      },
      "text/plain": [
       "visual (31):   0%|          | 0/145 [00:00<?, ?it/s]"
      ]
     },
     "metadata": {},
     "output_type": "display_data"
    },
    {
     "data": {
      "application/vnd.jupyter.widget-view+json": {
       "model_id": "a264c461a7394ca78f4d9ec820b39b70",
       "version_major": 2,
       "version_minor": 0
      },
      "text/plain": [
       "Checking for word:   0%|          | 0/2123 [00:00<?, ?it/s]"
      ]
     },
     "metadata": {},
     "output_type": "display_data"
    },
    {
     "data": {
      "application/vnd.jupyter.widget-view+json": {
       "model_id": "cd48b3cd9d2c43d3ad8e6144c900464b",
       "version_major": 2,
       "version_minor": 0
      },
      "text/plain": [
       "wow (32):   0%|          | 0/1356 [00:00<?, ?it/s]"
      ]
     },
     "metadata": {},
     "output_type": "display_data"
    },
    {
     "data": {
      "application/vnd.jupyter.widget-view+json": {
       "model_id": "17bf811f60cb42d7afc1ea9a74030007",
       "version_major": 2,
       "version_minor": 0
      },
      "text/plain": [
       "wow (32):   0%|          | 0/169 [00:00<?, ?it/s]"
      ]
     },
     "metadata": {},
     "output_type": "display_data"
    },
    {
     "data": {
      "application/vnd.jupyter.widget-view+json": {
       "model_id": "0bb97b8773a14ee2bde4302b91f4d057",
       "version_major": 2,
       "version_minor": 0
      },
      "text/plain": [
       "wow (32):   0%|          | 0/170 [00:00<?, ?it/s]"
      ]
     },
     "metadata": {},
     "output_type": "display_data"
    },
    {
     "data": {
      "application/vnd.jupyter.widget-view+json": {
       "model_id": "487da843d2f040f69c795c749cacb2c9",
       "version_major": 2,
       "version_minor": 0
      },
      "text/plain": [
       "Checking for word:   0%|          | 0/4044 [00:00<?, ?it/s]"
      ]
     },
     "metadata": {},
     "output_type": "display_data"
    },
    {
     "data": {
      "application/vnd.jupyter.widget-view+json": {
       "model_id": "a25415838bc94a6bb28212853aae70d6",
       "version_major": 2,
       "version_minor": 0
      },
      "text/plain": [
       "yes (33):   0%|          | 0/2364 [00:00<?, ?it/s]"
      ]
     },
     "metadata": {},
     "output_type": "display_data"
    },
    {
     "data": {
      "application/vnd.jupyter.widget-view+json": {
       "model_id": "b10168ca16f546afb863efeaf0547b7d",
       "version_major": 2,
       "version_minor": 0
      },
      "text/plain": [
       "yes (33):   0%|          | 0/295 [00:00<?, ?it/s]"
      ]
     },
     "metadata": {},
     "output_type": "display_data"
    },
    {
     "data": {
      "application/vnd.jupyter.widget-view+json": {
       "model_id": "104e5e269cd54f3fa5668bda4c79951a",
       "version_major": 2,
       "version_minor": 0
      },
      "text/plain": [
       "yes (33):   0%|          | 0/297 [00:00<?, ?it/s]"
      ]
     },
     "metadata": {},
     "output_type": "display_data"
    },
    {
     "data": {
      "application/vnd.jupyter.widget-view+json": {
       "model_id": "ac7d809bf56d40efbe5242dc38422aa5",
       "version_major": 2,
       "version_minor": 0
      },
      "text/plain": [
       "Checking for word:   0%|          | 0/4052 [00:00<?, ?it/s]"
      ]
     },
     "metadata": {},
     "output_type": "display_data"
    },
    {
     "data": {
      "application/vnd.jupyter.widget-view+json": {
       "model_id": "f293f6c37f134d7798188e7495c1d77d",
       "version_major": 2,
       "version_minor": 0
      },
      "text/plain": [
       "zero (34):   0%|          | 0/2957 [00:00<?, ?it/s]"
      ]
     },
     "metadata": {},
     "output_type": "display_data"
    },
    {
     "data": {
      "application/vnd.jupyter.widget-view+json": {
       "model_id": "0c2e672681ba4f4bbcd421ee4cb18dde",
       "version_major": 2,
       "version_minor": 0
      },
      "text/plain": [
       "zero (34):   0%|          | 0/369 [00:00<?, ?it/s]"
      ]
     },
     "metadata": {},
     "output_type": "display_data"
    },
    {
     "data": {
      "application/vnd.jupyter.widget-view+json": {
       "model_id": "b3bb232d55e245fbb5c26a2f5f9d59cc",
       "version_major": 2,
       "version_minor": 0
      },
      "text/plain": [
       "zero (34):   0%|          | 0/371 [00:00<?, ?it/s]"
      ]
     },
     "metadata": {},
     "output_type": "display_data"
    },
    {
     "name": "stdout",
     "output_type": "stream",
     "text": [
      "161100 20258 20070\n"
     ]
    }
   ],
   "source": [
    "def get_files_for_word(files, label, repeat):\n",
    "    files= tf.repeat(files, repeat).numpy()\n",
    "    return [(process_audio_for_spectogram(file_name), label) for file_name in tqdm(files, desc=f\"{word} ({label})\", leave=False)]\n",
    "\n",
    "\n",
    "def process_word(word, repeat=1):\n",
    "    \n",
    "    label= words.index(word)\n",
    "    files= [file_name for file_name in tqdm(get_files(word), desc=\"Checking for word\", leave=False) if is_file_valid(file_name)]\n",
    "    np.random.shuffle(files)\n",
    "    \n",
    "    train_size= int(len(files)*TRAIN_SIZE)\n",
    "    validation_size= int(len(files)*VALIDATION_SIZE)\n",
    "    test_size= int(len(files)*TEST_SIZE)\n",
    "    \n",
    "    # Get samples\n",
    "    train.extend(get_files_for_word(files[:train_size], label, repeat=repeat))\n",
    "    validate.extend(get_files_for_word(files[train_size:train_size+validation_size], label, repeat=repeat))\n",
    "    test.extend(get_files_for_word(files[train_size+validation_size:], label, repeat=repeat))\n",
    "\n",
    "train= []\n",
    "validate= []\n",
    "test= []\n",
    "\n",
    "for word in tqdm(words, desc=\"Processing words\"):\n",
    "    if '_' not in word:\n",
    "        # Balancing data set by adding more of the wake up word\n",
    "        \n",
    "        process_word(word, repeat= (70 if word=='marvin' else 1))\n",
    "    \n",
    "print(len(train), len(test), len(validate))"
   ]
  },
  {
   "cell_type": "markdown",
   "metadata": {},
   "source": [
    "Then, we generate some negative samples from our background noises. We create their spectograms and add them to our datasets."
   ]
  },
  {
   "cell_type": "code",
   "execution_count": 11,
   "metadata": {},
   "outputs": [
    {
     "data": {
      "application/vnd.jupyter.widget-view+json": {
       "model_id": "2b23bbd0fbf8475981bca7b37372e665",
       "version_major": 2,
       "version_minor": 0
      },
      "text/plain": [
       "Processing Background Noise:   0%|          | 0/6 [00:00<?, ?it/s]"
      ]
     },
     "metadata": {},
     "output_type": "display_data"
    },
    {
     "data": {
      "application/vnd.jupyter.widget-view+json": {
       "model_id": "7e1f3f84765b461fb369ab9fa2c64614",
       "version_major": 2,
       "version_minor": 0
      },
      "text/plain": [
       "speech_data\\_background_noise_\\doing_the_dishes.wav:   0%|          | 0/189 [00:00<?, ?it/s]"
      ]
     },
     "metadata": {},
     "output_type": "display_data"
    },
    {
     "data": {
      "application/vnd.jupyter.widget-view+json": {
       "model_id": "3d82c56773db424e9219d761e2650973",
       "version_major": 2,
       "version_minor": 0
      },
      "text/plain": [
       "Simulated Words:   0%|          | 0/1000 [00:00<?, ?it/s]"
      ]
     },
     "metadata": {},
     "output_type": "display_data"
    },
    {
     "data": {
      "application/vnd.jupyter.widget-view+json": {
       "model_id": "88c17e97e8cb4bc1a3724ffa191fbe87",
       "version_major": 2,
       "version_minor": 0
      },
      "text/plain": [
       "speech_data\\_background_noise_\\dude_miaowing.wav:   0%|          | 0/122 [00:00<?, ?it/s]"
      ]
     },
     "metadata": {},
     "output_type": "display_data"
    },
    {
     "data": {
      "application/vnd.jupyter.widget-view+json": {
       "model_id": "099025f1a9f8403d9ef0babd9f663f77",
       "version_major": 2,
       "version_minor": 0
      },
      "text/plain": [
       "Simulated Words:   0%|          | 0/1000 [00:00<?, ?it/s]"
      ]
     },
     "metadata": {},
     "output_type": "display_data"
    },
    {
     "data": {
      "application/vnd.jupyter.widget-view+json": {
       "model_id": "2a6c7e82bc59482fbf98b3ef447b8c69",
       "version_major": 2,
       "version_minor": 0
      },
      "text/plain": [
       "speech_data\\_background_noise_\\exercise_bike.wav:   0%|          | 0/121 [00:00<?, ?it/s]"
      ]
     },
     "metadata": {},
     "output_type": "display_data"
    },
    {
     "data": {
      "application/vnd.jupyter.widget-view+json": {
       "model_id": "944f476d9c274fff93f7c5edf91fdfcd",
       "version_major": 2,
       "version_minor": 0
      },
      "text/plain": [
       "Simulated Words:   0%|          | 0/1000 [00:00<?, ?it/s]"
      ]
     },
     "metadata": {},
     "output_type": "display_data"
    },
    {
     "data": {
      "application/vnd.jupyter.widget-view+json": {
       "model_id": "f7f5b73caed04ee6aca0094700198c5c",
       "version_major": 2,
       "version_minor": 0
      },
      "text/plain": [
       "speech_data\\_background_noise_\\pink_noise.wav:   0%|          | 0/118 [00:00<?, ?it/s]"
      ]
     },
     "metadata": {},
     "output_type": "display_data"
    },
    {
     "data": {
      "application/vnd.jupyter.widget-view+json": {
       "model_id": "162426de1679499ab88770cb9900f5a8",
       "version_major": 2,
       "version_minor": 0
      },
      "text/plain": [
       "Simulated Words:   0%|          | 0/1000 [00:00<?, ?it/s]"
      ]
     },
     "metadata": {},
     "output_type": "display_data"
    },
    {
     "data": {
      "application/vnd.jupyter.widget-view+json": {
       "model_id": "a8d6493adf8a43f29996b3428fbe708f",
       "version_major": 2,
       "version_minor": 0
      },
      "text/plain": [
       "speech_data\\_background_noise_\\running_tap.wav:   0%|          | 0/121 [00:00<?, ?it/s]"
      ]
     },
     "metadata": {},
     "output_type": "display_data"
    },
    {
     "data": {
      "application/vnd.jupyter.widget-view+json": {
       "model_id": "f1dbfe50191644c6845976a319907950",
       "version_major": 2,
       "version_minor": 0
      },
      "text/plain": [
       "Simulated Words:   0%|          | 0/1000 [00:00<?, ?it/s]"
      ]
     },
     "metadata": {},
     "output_type": "display_data"
    },
    {
     "data": {
      "application/vnd.jupyter.widget-view+json": {
       "model_id": "d9990203cdff45799b9e9ec156a01fca",
       "version_major": 2,
       "version_minor": 0
      },
      "text/plain": [
       "speech_data\\_background_noise_\\white_noise.wav:   0%|          | 0/118 [00:00<?, ?it/s]"
      ]
     },
     "metadata": {},
     "output_type": "display_data"
    },
    {
     "data": {
      "application/vnd.jupyter.widget-view+json": {
       "model_id": "7f22cd53460147a3a94e9c434fe84b96",
       "version_major": 2,
       "version_minor": 0
      },
      "text/plain": [
       "Simulated Words:   0%|          | 0/1000 [00:00<?, ?it/s]"
      ]
     },
     "metadata": {},
     "output_type": "display_data"
    },
    {
     "name": "stdout",
     "output_type": "stream",
     "text": [
      "166528 20943 20746\n"
     ]
    }
   ],
   "source": [
    "def proecss_background_for_spectogram(file_name, label):\n",
    "    audio_tensor= tfio.audio.AudioIOTensor(file_name)\n",
    "    audio= tf.cast(audio_tensor[:], tf.float32)\n",
    "    audio_length= len(audio)\n",
    "    \n",
    "    samples= []\n",
    "    \n",
    "    for start in tqdm(range(0, audio_length-EXPECTED_SAMPLES, 8000), desc=file_name, leave=False):\n",
    "        spectrogram= get_spectrogram(audio[start:start+EXPECTED_SAMPLES])\n",
    "        samples.append((spectrogram, label))\n",
    "\n",
    "    \n",
    "    for _ in tqdm(range(1000), desc=\"Simulated Words\", leave=False):\n",
    "        start= np.random.randint(0, audio_length-EXPECTED_SAMPLES)\n",
    "        section= np.reshape(audio[start:start+EXPECTED_SAMPLES], (EXPECTED_SAMPLES))\n",
    "\n",
    "        result= np.zeros((EXPECTED_SAMPLES))\n",
    "\n",
    "        voice_length= np.random.randint(MINIMUM_VOICE_LENGTH/2, EXPECTED_SAMPLES)\n",
    "        voice_start= np.random.randint(0, EXPECTED_SAMPLES-voice_length)\n",
    "        hamming= np.hamming(voice_length)\n",
    "\n",
    "        result[voice_start:voice_start+voice_length]= hamming*section[voice_start:voice_start+voice_length]\n",
    "\n",
    "        samples.append((get_spectrogram(np.reshape(section, (16000, 1))), label))\n",
    "        \n",
    "    np.random.shuffle(samples)\n",
    "    \n",
    "    train_size= int(len(samples)*TRAIN_SIZE)\n",
    "    validation_size= int(len(samples)*VALIDATION_SIZE)\n",
    "    test_size= int(len(samples)*TEST_SIZE)\n",
    "    \n",
    "    train.extend(samples[:train_size])\n",
    "    validate.extend(samples[train_size:train_size+validation_size])\n",
    "    test.extend(samples[train_size+validation_size:])\n",
    "\n",
    "        \n",
    "for file_name in tqdm(get_files('_background_noise_'), desc=\"Processing Background Noise\"):\n",
    "    proecss_background_for_spectogram(file_name, words.index(\"_background\"))\n",
    "    \n",
    "print(len(train), len(test), len(validate))"
   ]
  },
  {
   "cell_type": "code",
   "execution_count": 12,
   "metadata": {},
   "outputs": [
    {
     "data": {
      "application/vnd.jupyter.widget-view+json": {
       "model_id": "9403fcfdbe4b4ae6997a253f123d81b7",
       "version_major": 2,
       "version_minor": 0
      },
      "text/plain": [
       "Processing problem noise: 0it [00:00, ?it/s]"
      ]
     },
     "metadata": {},
     "output_type": "display_data"
    },
    {
     "name": "stdout",
     "output_type": "stream",
     "text": [
      "166528 20943 20746\n"
     ]
    }
   ],
   "source": [
    "def process_problem_noies_for_spectogram(file_name, label):\n",
    "    audio_tensor= tfio.audio.AudioIOTensor(file_name)\n",
    "    audio= tf.cast(audio_tensor[:], tf.float32)\n",
    "    audio_length= len(audio)\n",
    "    \n",
    "    samples = []\n",
    "    for start in tqdm(range(0, audio_length-EXPECTED_SAMPLES, 400), desc=file_name, leave=False):\n",
    "        spectrogram= get_spectrogram(audio[start:start+EXPECTED_SAMPLES])\n",
    "        samples.append((spectrogram, label))\n",
    "        \n",
    "    np.random.shuffle(samples)\n",
    "    \n",
    "    train_size= int(len(samples)*TRAIN_SIZE)\n",
    "    validation_size= int(len(samples)*VALIDATION_SIZE)\n",
    "    test_size= int(len(samples)*TEST_SIZE)\n",
    "    \n",
    "    train.extend(samples[:train_size])\n",
    "    validate.extend(samples[train_size:train_size+validation_size])\n",
    "    test.extend(samples[train_size+validation_size:])\n",
    "\n",
    "\n",
    "for file_name in tqdm(get_files(\"_problem_noise_\"), desc=\"Processing problem noise\"):\n",
    "    process_problem_noies_for_spectogram(file_name, words.index(\"_background\"))\n",
    "    \n",
    "    \n",
    "print(len(train), len(test), len(validate))"
   ]
  },
  {
   "cell_type": "code",
   "execution_count": 13,
   "metadata": {},
   "outputs": [
    {
     "data": {
      "application/vnd.jupyter.widget-view+json": {
       "model_id": "3d6b71edd51d4dd0bb5b3c49e8d19543",
       "version_major": 2,
       "version_minor": 0
      },
      "text/plain": [
       "Processing problem noise: 0it [00:00, ?it/s]"
      ]
     },
     "metadata": {},
     "output_type": "display_data"
    }
   ],
   "source": [
    "def process_wakeup_similar_sounds_for_spectogram(file_name, label):\n",
    "    audio_tensor= tfio.audio.AudioIOTensor(file_name)\n",
    "    audio= tf.cast(audio_tensor[:], tf.float32)\n",
    "    audio_length= len(audio)\n",
    "    \n",
    "    samples= []\n",
    "    for start in tqdm(range(0, audio_length-EXPECTED_SAMPLES, 4000), desc=file_name, leave=False):\n",
    "        \n",
    "        section= get_normalized_voice(audio[start:start+EXPECTED_SAMPLES])\n",
    "        section+= get_background_noise()\n",
    "        \n",
    "        spectrogram= get_spectrogram(section)\n",
    "        samples.append((spectrogram, label))\n",
    "        \n",
    "    np.random.shuffle(samples)\n",
    "    \n",
    "    train_size= int(len(samples)*TRAIN_SIZE)\n",
    "    validation_size= int(len(samples)*VALIDATION_SIZE)\n",
    "    test_size= int(len(samples)*TEST_SIZE)\n",
    "    \n",
    "    train.extend(samples[:train_size])\n",
    "    validate.extend(samples[train_size:train_size+validation_size])\n",
    "    test.extend(samples[train_size+validation_size:])\n",
    "\n",
    "\n",
    "for file_name in tqdm(get_files(\"_mar_sounds_\"), desc=\"Processing problem noise\"):\n",
    "    process_wakeup_similar_sounds_for_spectogram(file_name, words.index(\"_background\"))"
   ]
  },
  {
   "cell_type": "code",
   "execution_count": 14,
   "metadata": {
    "scrolled": true
   },
   "outputs": [
    {
     "name": "stdout",
     "output_type": "stream",
     "text": [
      "166528 20943 20746\n"
     ]
    }
   ],
   "source": [
    "print(len(train), len(test), len(validate))"
   ]
  },
  {
   "cell_type": "code",
   "execution_count": 15,
   "metadata": {},
   "outputs": [],
   "source": [
    "np.random.shuffle(train)\n",
    "x_train, y_train = zip(*train)\n",
    "x_validate, y_validate = zip(*validate)\n",
    "x_test, y_test = zip(*test)"
   ]
  },
  {
   "cell_type": "code",
   "execution_count": 16,
   "metadata": {},
   "outputs": [
    {
     "name": "stdout",
     "output_type": "stream",
     "text": [
      "Saved training data\n",
      "Saved validation data\n",
      "Saved test data\n"
     ]
    }
   ],
   "source": [
    "\n",
    "np.savez_compressed(\"training_spectrogram.npz\", X=x_train, Y=y_train)\n",
    "print(\"Saved training data\")\n",
    "\n",
    "np.savez_compressed(\"validation_spectrogram.npz\", X=x_validate, Y=y_validate)\n",
    "print(\"Saved validation data\")\n",
    "\n",
    "np.savez_compressed(\"test_spectrogram.npz\", X=x_test, Y=y_test)\n",
    "print(\"Saved test data\")"
   ]
  },
  {
   "cell_type": "code",
   "execution_count": 17,
   "metadata": {},
   "outputs": [],
   "source": [
    "# get the width and height of the spectrogram \"image\"\n",
    "IMG_WIDTH=x_train[0].shape[0]\n",
    "IMG_HEIGHT=x_train[0].shape[1]"
   ]
  },
  {
   "cell_type": "code",
   "execution_count": 18,
   "metadata": {},
   "outputs": [],
   "source": [
    "def plot_images(images_arr, imageWidth, imageHeight):\n",
    "    fig, axes = plt.subplots(5, 5, figsize=(10, 20))\n",
    "    axes = axes.flatten()\n",
    "    for img, ax in zip(images_arr, axes):\n",
    "        ax.imshow(np.reshape(img, (imageWidth, imageHeight)))\n",
    "        ax.axis(\"off\")\n",
    "    plt.tight_layout()\n",
    "    plt.show()\n",
    "    "
   ]
  },
  {
   "cell_type": "code",
   "execution_count": 19,
   "metadata": {},
   "outputs": [
    {
     "data": {
      "image/png": "[encoded data removed]",
      "text/plain": [
       "<Figure size 1000x2000 with 25 Axes>"
      ]
     },
     "metadata": {},
     "output_type": "display_data"
    },
    {
     "name": "stdout",
     "output_type": "stream",
     "text": [
      "[9 9 9 9 9 9 9 9 9 9 9 9 9 9 9 9 9 9 9 9]\n"
     ]
    }
   ],
   "source": [
    "word_index= words.index(\"forward\")\n",
    "\n",
    "X_word= np.array(x_train)[np.array(y_train)==word_index]\n",
    "Y_word= np.array(y_train)[np.array(y_train)==word_index]\n",
    "plot_images(X_word[:20], IMG_WIDTH, IMG_HEIGHT)\n",
    "print(Y_word[:20])"
   ]
  }
 ],
 "metadata": {
  "kernelspec": {
   "display_name": "Python 3",
   "language": "python",
   "name": "python3"
  },
  "language_info": {
   "codemirror_mode": {
    "name": "ipython",
    "version": 3
   },
   "file_extension": ".py",
   "mimetype": "text/x-python",
   "name": "python",
   "nbconvert_exporter": "python",
   "pygments_lexer": "ipython3",
   "version": "3.10.7"
  }
 },
 "nbformat": 4,
 "nbformat_minor": 4
}
